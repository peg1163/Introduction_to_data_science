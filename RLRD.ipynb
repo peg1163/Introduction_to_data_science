{
 "cells": [
  {
   "cell_type": "code",
   "execution_count": 1,
   "metadata": {
    "collapsed": true,
    "ExecuteTime": {
     "end_time": "2023-08-30T22:48:23.146216300Z",
     "start_time": "2023-08-30T22:48:15.792196500Z"
    }
   },
   "outputs": [
    {
     "data": {
      "text/plain": "       longitude  latitude  housing_median_age  total_rooms  total_bedrooms  \\\ncount    17000.0   17000.0             17000.0      17000.0         17000.0   \nmean      -119.6      35.6                28.6       2643.7           539.4   \nstd          2.0       2.1                12.6       2179.9           421.5   \nmin       -124.3      32.5                 1.0          2.0             1.0   \n25%       -121.8      33.9                18.0       1462.0           297.0   \n50%       -118.5      34.2                29.0       2127.0           434.0   \n75%       -118.0      37.7                37.0       3151.2           648.2   \nmax       -114.3      42.0                52.0      37937.0          6445.0   \n\n       population  households  median_income  median_house_value  \ncount     17000.0     17000.0        17000.0             17000.0  \nmean       1429.6       501.2            3.9               207.3  \nstd        1147.9       384.5            1.9               116.0  \nmin           3.0         1.0            0.5                15.0  \n25%         790.0       282.0            2.6               119.4  \n50%        1167.0       409.0            3.5               180.4  \n75%        1721.0       605.2            4.8               265.0  \nmax       35682.0      6082.0           15.0               500.0  ",
      "text/html": "<div>\n<style scoped>\n    .dataframe tbody tr th:only-of-type {\n        vertical-align: middle;\n    }\n\n    .dataframe tbody tr th {\n        vertical-align: top;\n    }\n\n    .dataframe thead th {\n        text-align: right;\n    }\n</style>\n<table border=\"1\" class=\"dataframe\">\n  <thead>\n    <tr style=\"text-align: right;\">\n      <th></th>\n      <th>longitude</th>\n      <th>latitude</th>\n      <th>housing_median_age</th>\n      <th>total_rooms</th>\n      <th>total_bedrooms</th>\n      <th>population</th>\n      <th>households</th>\n      <th>median_income</th>\n      <th>median_house_value</th>\n    </tr>\n  </thead>\n  <tbody>\n    <tr>\n      <th>count</th>\n      <td>17000.0</td>\n      <td>17000.0</td>\n      <td>17000.0</td>\n      <td>17000.0</td>\n      <td>17000.0</td>\n      <td>17000.0</td>\n      <td>17000.0</td>\n      <td>17000.0</td>\n      <td>17000.0</td>\n    </tr>\n    <tr>\n      <th>mean</th>\n      <td>-119.6</td>\n      <td>35.6</td>\n      <td>28.6</td>\n      <td>2643.7</td>\n      <td>539.4</td>\n      <td>1429.6</td>\n      <td>501.2</td>\n      <td>3.9</td>\n      <td>207.3</td>\n    </tr>\n    <tr>\n      <th>std</th>\n      <td>2.0</td>\n      <td>2.1</td>\n      <td>12.6</td>\n      <td>2179.9</td>\n      <td>421.5</td>\n      <td>1147.9</td>\n      <td>384.5</td>\n      <td>1.9</td>\n      <td>116.0</td>\n    </tr>\n    <tr>\n      <th>min</th>\n      <td>-124.3</td>\n      <td>32.5</td>\n      <td>1.0</td>\n      <td>2.0</td>\n      <td>1.0</td>\n      <td>3.0</td>\n      <td>1.0</td>\n      <td>0.5</td>\n      <td>15.0</td>\n    </tr>\n    <tr>\n      <th>25%</th>\n      <td>-121.8</td>\n      <td>33.9</td>\n      <td>18.0</td>\n      <td>1462.0</td>\n      <td>297.0</td>\n      <td>790.0</td>\n      <td>282.0</td>\n      <td>2.6</td>\n      <td>119.4</td>\n    </tr>\n    <tr>\n      <th>50%</th>\n      <td>-118.5</td>\n      <td>34.2</td>\n      <td>29.0</td>\n      <td>2127.0</td>\n      <td>434.0</td>\n      <td>1167.0</td>\n      <td>409.0</td>\n      <td>3.5</td>\n      <td>180.4</td>\n    </tr>\n    <tr>\n      <th>75%</th>\n      <td>-118.0</td>\n      <td>37.7</td>\n      <td>37.0</td>\n      <td>3151.2</td>\n      <td>648.2</td>\n      <td>1721.0</td>\n      <td>605.2</td>\n      <td>4.8</td>\n      <td>265.0</td>\n    </tr>\n    <tr>\n      <th>max</th>\n      <td>-114.3</td>\n      <td>42.0</td>\n      <td>52.0</td>\n      <td>37937.0</td>\n      <td>6445.0</td>\n      <td>35682.0</td>\n      <td>6082.0</td>\n      <td>15.0</td>\n      <td>500.0</td>\n    </tr>\n  </tbody>\n</table>\n</div>"
     },
     "execution_count": 1,
     "metadata": {},
     "output_type": "execute_result"
    }
   ],
   "source": [
    "#@title Import relevant modules\n",
    "import pandas as pd\n",
    "import tensorflow as tf\n",
    "from matplotlib import pyplot as plt\n",
    "\n",
    "# The following lines adjust the granularity of reporting.\n",
    "pd.options.display.max_rows = 10\n",
    "pd.options.display.float_format = \"{:.1f}\".format\n",
    "# Import the dataset.\n",
    "training_df = pd.read_csv(filepath_or_buffer=\"https://download.mlcc.google.com/mledu-datasets/california_housing_train.csv\")\n",
    "\n",
    "# Scale the label.\n",
    "training_df[\"median_house_value\"] /= 1000.0\n",
    "\n",
    "# Print the first rows of the pandas DataFrame.\n",
    "training_df.head()\n",
    "# Get statistics on the dataset.\n",
    "training_df.describe()\n"
   ]
  },
  {
   "cell_type": "code",
   "execution_count": null,
   "outputs": [],
   "source": [],
   "metadata": {
    "collapsed": false
   }
  }
 ],
 "metadata": {
  "kernelspec": {
   "display_name": "Python 3",
   "language": "python",
   "name": "python3"
  },
  "language_info": {
   "codemirror_mode": {
    "name": "ipython",
    "version": 2
   },
   "file_extension": ".py",
   "mimetype": "text/x-python",
   "name": "python",
   "nbconvert_exporter": "python",
   "pygments_lexer": "ipython2",
   "version": "2.7.6"
  }
 },
 "nbformat": 4,
 "nbformat_minor": 0
}
